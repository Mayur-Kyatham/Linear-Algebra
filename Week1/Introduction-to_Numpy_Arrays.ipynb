# Introduction to Python Matrices and NumPy #

Welcome to your first notebook of this specialization! In this notebook, you will use NumPy to create 2-D arrays and easily compute mathematical operations. NumPy (Numerical Python) is an open-source package that is widely used in science and engineering. Feel free to skip this notebook if you are already fluent with NumPy.

**After this assignment you will be able to:**
- Use Jupyter Notebook and its features. 
- Use NumPy functions to create arrays and NumPy array operations. 
- Use indexing and slicing for 2-D arrays.
- Find the shape of an array, reshape it and stack it horizontally and vertically.

**Instructions**
- You will be using Python 3.
- Follow along the cells using `Shift`+`Enter`. Alternatively, you can press `Run` in the menu. 
